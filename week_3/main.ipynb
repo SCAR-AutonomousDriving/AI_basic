{
 "cells": [
  {
   "cell_type": "code",
   "execution_count": null,
   "metadata": {},
   "outputs": [],
   "source": [
    "#필요한 module들을 import합니다.\n",
    "import numpy as np\n",
    "import torch\n",
    "\n",
    "from .trainer import CustomTrainer"
   ]
  }
 ],
 "metadata": {
  "language_info": {
   "name": "python"
  }
 },
 "nbformat": 4,
 "nbformat_minor": 2
}
